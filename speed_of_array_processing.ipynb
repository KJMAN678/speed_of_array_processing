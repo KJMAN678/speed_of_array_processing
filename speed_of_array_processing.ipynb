{
  "nbformat": 4,
  "nbformat_minor": 0,
  "metadata": {
    "colab": {
      "name": "speed_of_array_processing.ipynb",
      "provenance": [],
      "collapsed_sections": []
    },
    "kernelspec": {
      "name": "python3",
      "display_name": "Python 3"
    },
    "accelerator": "GPU"
  },
  "cells": [
    {
      "cell_type": "code",
      "metadata": {
        "id": "4TzLE_wHZO74",
        "colab": {
          "base_uri": "https://localhost:8080/"
        },
        "outputId": "9f205d31-dd3d-4421-c402-8a58c968f6b9"
      },
      "source": [
        "from tensorflow.python.client import device_lib\r\n",
        "device_lib.list_local_devices()"
      ],
      "execution_count": 2,
      "outputs": [
        {
          "output_type": "execute_result",
          "data": {
            "text/plain": [
              "[name: \"/device:CPU:0\"\n",
              " device_type: \"CPU\"\n",
              " memory_limit: 268435456\n",
              " locality {\n",
              " }\n",
              " incarnation: 2801404980097387619, name: \"/device:GPU:0\"\n",
              " device_type: \"GPU\"\n",
              " memory_limit: 14674281152\n",
              " locality {\n",
              "   bus_id: 1\n",
              "   links {\n",
              "   }\n",
              " }\n",
              " incarnation: 1211993217599460608\n",
              " physical_device_desc: \"device: 0, name: Tesla T4, pci bus id: 0000:00:04.0, compute capability: 7.5\"]"
            ]
          },
          "metadata": {
            "tags": []
          },
          "execution_count": 2
        }
      ]
    },
    {
      "cell_type": "code",
      "metadata": {
        "id": "rz1Y3NhINIwj"
      },
      "source": [
        "import pandas as pd\r\n",
        "import numpy as np\r\n",
        "import torch\r\n",
        "\r\n",
        "import gc\r\n",
        "from tqdm import tqdm\r\n",
        "import time\r\n",
        "from IPython.display import display"
      ],
      "execution_count": 45,
      "outputs": []
    },
    {
      "cell_type": "code",
      "metadata": {
        "id": "lU9vxVQZZTzt",
        "colab": {
          "base_uri": "https://localhost:8080/",
          "height": 215
        },
        "outputId": "7c83d9cc-bd19-4c5c-f73c-70ed270fb62d"
      },
      "source": [
        "df = pd.read_csv(\"https://raw.githubusercontent.com/guipsamora/pandas_exercises/master/07_Visualization/Online_Retail/Online_Retail.csv\", encoding='cp932')\r\n",
        "print(df.shape)\r\n",
        "df.head()"
      ],
      "execution_count": 46,
      "outputs": [
        {
          "output_type": "stream",
          "text": [
            "(541909, 8)\n"
          ],
          "name": "stdout"
        },
        {
          "output_type": "execute_result",
          "data": {
            "text/html": [
              "<div>\n",
              "<style scoped>\n",
              "    .dataframe tbody tr th:only-of-type {\n",
              "        vertical-align: middle;\n",
              "    }\n",
              "\n",
              "    .dataframe tbody tr th {\n",
              "        vertical-align: top;\n",
              "    }\n",
              "\n",
              "    .dataframe thead th {\n",
              "        text-align: right;\n",
              "    }\n",
              "</style>\n",
              "<table border=\"1\" class=\"dataframe\">\n",
              "  <thead>\n",
              "    <tr style=\"text-align: right;\">\n",
              "      <th></th>\n",
              "      <th>InvoiceNo</th>\n",
              "      <th>StockCode</th>\n",
              "      <th>Description</th>\n",
              "      <th>Quantity</th>\n",
              "      <th>InvoiceDate</th>\n",
              "      <th>UnitPrice</th>\n",
              "      <th>CustomerID</th>\n",
              "      <th>Country</th>\n",
              "    </tr>\n",
              "  </thead>\n",
              "  <tbody>\n",
              "    <tr>\n",
              "      <th>0</th>\n",
              "      <td>536365</td>\n",
              "      <td>85123A</td>\n",
              "      <td>WHITE HANGING HEART T-LIGHT HOLDER</td>\n",
              "      <td>6</td>\n",
              "      <td>12/1/10 8:26</td>\n",
              "      <td>2.55</td>\n",
              "      <td>17850.0</td>\n",
              "      <td>United Kingdom</td>\n",
              "    </tr>\n",
              "    <tr>\n",
              "      <th>1</th>\n",
              "      <td>536365</td>\n",
              "      <td>71053</td>\n",
              "      <td>WHITE METAL LANTERN</td>\n",
              "      <td>6</td>\n",
              "      <td>12/1/10 8:26</td>\n",
              "      <td>3.39</td>\n",
              "      <td>17850.0</td>\n",
              "      <td>United Kingdom</td>\n",
              "    </tr>\n",
              "    <tr>\n",
              "      <th>2</th>\n",
              "      <td>536365</td>\n",
              "      <td>84406B</td>\n",
              "      <td>CREAM CUPID HEARTS COAT HANGER</td>\n",
              "      <td>8</td>\n",
              "      <td>12/1/10 8:26</td>\n",
              "      <td>2.75</td>\n",
              "      <td>17850.0</td>\n",
              "      <td>United Kingdom</td>\n",
              "    </tr>\n",
              "    <tr>\n",
              "      <th>3</th>\n",
              "      <td>536365</td>\n",
              "      <td>84029G</td>\n",
              "      <td>KNITTED UNION FLAG HOT WATER BOTTLE</td>\n",
              "      <td>6</td>\n",
              "      <td>12/1/10 8:26</td>\n",
              "      <td>3.39</td>\n",
              "      <td>17850.0</td>\n",
              "      <td>United Kingdom</td>\n",
              "    </tr>\n",
              "    <tr>\n",
              "      <th>4</th>\n",
              "      <td>536365</td>\n",
              "      <td>84029E</td>\n",
              "      <td>RED WOOLLY HOTTIE WHITE HEART.</td>\n",
              "      <td>6</td>\n",
              "      <td>12/1/10 8:26</td>\n",
              "      <td>3.39</td>\n",
              "      <td>17850.0</td>\n",
              "      <td>United Kingdom</td>\n",
              "    </tr>\n",
              "  </tbody>\n",
              "</table>\n",
              "</div>"
            ],
            "text/plain": [
              "  InvoiceNo StockCode  ... CustomerID         Country\n",
              "0    536365    85123A  ...    17850.0  United Kingdom\n",
              "1    536365     71053  ...    17850.0  United Kingdom\n",
              "2    536365    84406B  ...    17850.0  United Kingdom\n",
              "3    536365    84029G  ...    17850.0  United Kingdom\n",
              "4    536365    84029E  ...    17850.0  United Kingdom\n",
              "\n",
              "[5 rows x 8 columns]"
            ]
          },
          "metadata": {
            "tags": []
          },
          "execution_count": 46
        }
      ]
    },
    {
      "cell_type": "code",
      "metadata": {
        "id": "6tiAKrCkUDVl"
      },
      "source": [
        "df = df[['InvoiceNo', 'CustomerID', 'UnitPrice', 'Quantity']]\r\n",
        "df[\"InvoiceNo\"] = df[\"InvoiceNo\"].str.strip('CA').astype(\"int32\")"
      ],
      "execution_count": null,
      "outputs": []
    },
    {
      "cell_type": "code",
      "metadata": {
        "id": "nSj8dgF6tXWO"
      },
      "source": [
        "df = df.astype(\"float64\")"
      ],
      "execution_count": 48,
      "outputs": []
    },
    {
      "cell_type": "code",
      "metadata": {
        "colab": {
          "base_uri": "https://localhost:8080/"
        },
        "id": "iB5-vsyZteYG",
        "outputId": "346c7cd5-fd18-44b2-f4c8-7ee701f8823c"
      },
      "source": [
        "df.dtypes"
      ],
      "execution_count": 49,
      "outputs": [
        {
          "output_type": "execute_result",
          "data": {
            "text/plain": [
              "InvoiceNo     float64\n",
              "CustomerID    float64\n",
              "UnitPrice     float64\n",
              "Quantity      float64\n",
              "dtype: object"
            ]
          },
          "metadata": {
            "tags": []
          },
          "execution_count": 49
        }
      ]
    },
    {
      "cell_type": "code",
      "metadata": {
        "colab": {
          "base_uri": "https://localhost:8080/",
          "height": 215
        },
        "id": "F2mKTC6huVgf",
        "outputId": "e70e6394-cac8-448d-e30e-d7d6f6720a18"
      },
      "source": [
        "print(df.shape)\r\n",
        "df.head()"
      ],
      "execution_count": 63,
      "outputs": [
        {
          "output_type": "stream",
          "text": [
            "(541909, 4)\n"
          ],
          "name": "stdout"
        },
        {
          "output_type": "execute_result",
          "data": {
            "text/html": [
              "<div>\n",
              "<style scoped>\n",
              "    .dataframe tbody tr th:only-of-type {\n",
              "        vertical-align: middle;\n",
              "    }\n",
              "\n",
              "    .dataframe tbody tr th {\n",
              "        vertical-align: top;\n",
              "    }\n",
              "\n",
              "    .dataframe thead th {\n",
              "        text-align: right;\n",
              "    }\n",
              "</style>\n",
              "<table border=\"1\" class=\"dataframe\">\n",
              "  <thead>\n",
              "    <tr style=\"text-align: right;\">\n",
              "      <th></th>\n",
              "      <th>InvoiceNo</th>\n",
              "      <th>CustomerID</th>\n",
              "      <th>UnitPrice</th>\n",
              "      <th>Quantity</th>\n",
              "    </tr>\n",
              "  </thead>\n",
              "  <tbody>\n",
              "    <tr>\n",
              "      <th>0</th>\n",
              "      <td>536365.0</td>\n",
              "      <td>17850.0</td>\n",
              "      <td>2.55</td>\n",
              "      <td>6.0</td>\n",
              "    </tr>\n",
              "    <tr>\n",
              "      <th>1</th>\n",
              "      <td>536365.0</td>\n",
              "      <td>17850.0</td>\n",
              "      <td>3.39</td>\n",
              "      <td>6.0</td>\n",
              "    </tr>\n",
              "    <tr>\n",
              "      <th>2</th>\n",
              "      <td>536365.0</td>\n",
              "      <td>17850.0</td>\n",
              "      <td>2.75</td>\n",
              "      <td>8.0</td>\n",
              "    </tr>\n",
              "    <tr>\n",
              "      <th>3</th>\n",
              "      <td>536365.0</td>\n",
              "      <td>17850.0</td>\n",
              "      <td>3.39</td>\n",
              "      <td>6.0</td>\n",
              "    </tr>\n",
              "    <tr>\n",
              "      <th>4</th>\n",
              "      <td>536365.0</td>\n",
              "      <td>17850.0</td>\n",
              "      <td>3.39</td>\n",
              "      <td>6.0</td>\n",
              "    </tr>\n",
              "  </tbody>\n",
              "</table>\n",
              "</div>"
            ],
            "text/plain": [
              "   InvoiceNo  CustomerID  UnitPrice  Quantity\n",
              "0   536365.0     17850.0       2.55       6.0\n",
              "1   536365.0     17850.0       3.39       6.0\n",
              "2   536365.0     17850.0       2.75       8.0\n",
              "3   536365.0     17850.0       3.39       6.0\n",
              "4   536365.0     17850.0       3.39       6.0"
            ]
          },
          "metadata": {
            "tags": []
          },
          "execution_count": 63
        }
      ]
    },
    {
      "cell_type": "markdown",
      "metadata": {
        "id": "5XeO0TbBLOjM"
      },
      "source": [
        "## Pandas"
      ]
    },
    {
      "cell_type": "code",
      "metadata": {
        "id": "RtdB7EV3Wjxs",
        "colab": {
          "base_uri": "https://localhost:8080/"
        },
        "outputId": "de7c46ab-df90-4390-94fa-e418b9c4b83a"
      },
      "source": [
        "sale_dict = {}\r\n",
        "\r\n",
        "start = time.time()\r\n",
        "\r\n",
        "for i in tqdm(df[\"CustomerID\"].unique()[~np.isnan(df[\"CustomerID\"].unique())]):\r\n",
        "    for j in df[df[\"CustomerID\"]==i][\"InvoiceNo\"].unique():\r\n",
        "        sale_dict[f\"{i}_{j}_sale\"] = df[(df[\"CustomerID\"]==i) & (df[\"InvoiceNo\"]==j)][\"Quantity\"] * df[(df[\"CustomerID\"]==i) & (df[\"InvoiceNo\"]==j)][\"UnitPrice\"]\r\n",
        "\r\n",
        "elapsed_time = time.time() - start\r\n",
        "print (f\"elapsed_time:{elapsed_time}[sec]\")"
      ],
      "execution_count": 50,
      "outputs": [
        {
          "output_type": "stream",
          "text": [
            "100%|██████████| 4372/4372 [01:58<00:00, 36.98it/s] "
          ],
          "name": "stderr"
        },
        {
          "output_type": "stream",
          "text": [
            "elapsed_time:118.24762082099915[sec]\n"
          ],
          "name": "stdout"
        },
        {
          "output_type": "stream",
          "text": [
            "\n"
          ],
          "name": "stderr"
        }
      ]
    },
    {
      "cell_type": "markdown",
      "metadata": {
        "id": "3O4Lojg6NtiU"
      },
      "source": [
        "## Numpy"
      ]
    },
    {
      "cell_type": "code",
      "metadata": {
        "id": "uMiwHYDWNjvL"
      },
      "source": [
        "df_np = df.values.copy()"
      ],
      "execution_count": 51,
      "outputs": []
    },
    {
      "cell_type": "code",
      "metadata": {
        "colab": {
          "base_uri": "https://localhost:8080/"
        },
        "id": "TFnWN69WsduF",
        "outputId": "a99e8436-f0c3-462c-d9e1-dd72848a0405"
      },
      "source": [
        "df_np"
      ],
      "execution_count": 52,
      "outputs": [
        {
          "output_type": "execute_result",
          "data": {
            "text/plain": [
              "array([[5.36365e+05, 1.78500e+04, 2.55000e+00, 6.00000e+00],\n",
              "       [5.36365e+05, 1.78500e+04, 3.39000e+00, 6.00000e+00],\n",
              "       [5.36365e+05, 1.78500e+04, 2.75000e+00, 8.00000e+00],\n",
              "       ...,\n",
              "       [5.81587e+05, 1.26800e+04, 4.15000e+00, 4.00000e+00],\n",
              "       [5.81587e+05, 1.26800e+04, 4.15000e+00, 4.00000e+00],\n",
              "       [5.81587e+05, 1.26800e+04, 4.95000e+00, 3.00000e+00]])"
            ]
          },
          "metadata": {
            "tags": []
          },
          "execution_count": 52
        }
      ]
    },
    {
      "cell_type": "code",
      "metadata": {
        "colab": {
          "base_uri": "https://localhost:8080/"
        },
        "id": "8ckicFkcr1fP",
        "outputId": "cd792831-3f8c-4a01-a6ed-3f3fb7fb6da7"
      },
      "source": [
        "df_np.dtype"
      ],
      "execution_count": 53,
      "outputs": [
        {
          "output_type": "execute_result",
          "data": {
            "text/plain": [
              "dtype('float64')"
            ]
          },
          "metadata": {
            "tags": []
          },
          "execution_count": 53
        }
      ]
    },
    {
      "cell_type": "code",
      "metadata": {
        "id": "3npdwUDPOQ9r",
        "colab": {
          "base_uri": "https://localhost:8080/"
        },
        "outputId": "8aef2aa1-e275-4a98-93c4-de88ed90b07a"
      },
      "source": [
        "sale_dict = {}\r\n",
        "\r\n",
        "start = time.time()\r\n",
        "\r\n",
        "for i in tqdm(np.unique(df_np[:, 1][~np.isnan(df_np[:, 1])])):\r\n",
        "    for j in np.unique(df_np[df_np[:, 1]==i][:, 0]):\r\n",
        "        sale_dict[f\"{i}_{j}_sale\"] = df_np[(df_np[:, 1]==i) & (df_np[:, 0]==j)][:, 3] * df_np[(df_np[:, 1]==i) & (df_np[:, 0]==j)][:, 2]\r\n",
        "\r\n",
        "elapsed_time = time.time() - start\r\n",
        "print (f\"elapsed_time:{elapsed_time}[sec]\")"
      ],
      "execution_count": 54,
      "outputs": [
        {
          "output_type": "stream",
          "text": [
            "100%|██████████| 4372/4372 [02:28<00:00, 29.35it/s]"
          ],
          "name": "stderr"
        },
        {
          "output_type": "stream",
          "text": [
            "elapsed_time:148.98866844177246[sec]\n"
          ],
          "name": "stdout"
        },
        {
          "output_type": "stream",
          "text": [
            "\n"
          ],
          "name": "stderr"
        }
      ]
    },
    {
      "cell_type": "markdown",
      "metadata": {
        "id": "jaHZSRTVfV4c"
      },
      "source": [
        "## Tensor GPUなし"
      ]
    },
    {
      "cell_type": "code",
      "metadata": {
        "id": "ad6X6T-1fWIU"
      },
      "source": [
        "df_tensor = torch.from_numpy(df_np).clone()"
      ],
      "execution_count": 95,
      "outputs": []
    },
    {
      "cell_type": "code",
      "metadata": {
        "colab": {
          "base_uri": "https://localhost:8080/"
        },
        "id": "LCKVjvBCsjBl",
        "outputId": "09cb618a-84ee-4fbb-d127-2793ad947aa6"
      },
      "source": [
        "df_tensor"
      ],
      "execution_count": 56,
      "outputs": [
        {
          "output_type": "execute_result",
          "data": {
            "text/plain": [
              "tensor([[5.3636e+05, 1.7850e+04, 2.5500e+00, 6.0000e+00],\n",
              "        [5.3636e+05, 1.7850e+04, 3.3900e+00, 6.0000e+00],\n",
              "        [5.3636e+05, 1.7850e+04, 2.7500e+00, 8.0000e+00],\n",
              "        ...,\n",
              "        [5.8159e+05, 1.2680e+04, 4.1500e+00, 4.0000e+00],\n",
              "        [5.8159e+05, 1.2680e+04, 4.1500e+00, 4.0000e+00],\n",
              "        [5.8159e+05, 1.2680e+04, 4.9500e+00, 3.0000e+00]], dtype=torch.float64)"
            ]
          },
          "metadata": {
            "tags": []
          },
          "execution_count": 56
        }
      ]
    },
    {
      "cell_type": "code",
      "metadata": {
        "colab": {
          "base_uri": "https://localhost:8080/"
        },
        "id": "LbyE9jlEsfml",
        "outputId": "fa6170fe-39eb-4038-99f9-83fe108b2603"
      },
      "source": [
        "df_tensor.dtype"
      ],
      "execution_count": 57,
      "outputs": [
        {
          "output_type": "execute_result",
          "data": {
            "text/plain": [
              "torch.float64"
            ]
          },
          "metadata": {
            "tags": []
          },
          "execution_count": 57
        }
      ]
    },
    {
      "cell_type": "code",
      "metadata": {
        "colab": {
          "base_uri": "https://localhost:8080/"
        },
        "id": "Ebuj9CDOfaU3",
        "outputId": "fd2eec88-0469-4268-f1b6-09c22d7b6307"
      },
      "source": [
        "sale_dict = {}\r\n",
        "\r\n",
        "start = time.time()\r\n",
        "\r\n",
        "for i in tqdm(df_tensor[:, 1][~torch.isnan(df_tensor[:, 1])].unique()):\r\n",
        "    for j in df_tensor[df_tensor[:, 1]==i][:, 0].unique():\r\n",
        "        sale_dict[f\"{i}_{j}_sale\"] = df_tensor[(df_tensor[:, 1]==i) & (df_tensor[:, 0]==j)][:, 3] * df_tensor[(df_tensor[:, 1]==i) & (df_tensor[:, 0]==j)][:, 2]\r\n",
        "\r\n",
        "elapsed_time = time.time() - start\r\n",
        "print (f\"elapsed_time:{elapsed_time}[sec]\")"
      ],
      "execution_count": 58,
      "outputs": [
        {
          "output_type": "stream",
          "text": [
            "100%|██████████| 4372/4372 [02:42<00:00, 26.93it/s]"
          ],
          "name": "stderr"
        },
        {
          "output_type": "stream",
          "text": [
            "elapsed_time:162.37371969223022[sec]\n"
          ],
          "name": "stdout"
        },
        {
          "output_type": "stream",
          "text": [
            "\n"
          ],
          "name": "stderr"
        }
      ]
    },
    {
      "cell_type": "markdown",
      "metadata": {
        "id": "pAih-kmyY4H9"
      },
      "source": [
        "## Tensor GPUあり"
      ]
    },
    {
      "cell_type": "code",
      "metadata": {
        "id": "gB99VeCpZagP"
      },
      "source": [
        "device = 'cuda' if torch.cuda.is_available() else 'cpu'\r\n",
        "df_tensor = df_tensor.to(device)"
      ],
      "execution_count": 59,
      "outputs": []
    },
    {
      "cell_type": "code",
      "metadata": {
        "colab": {
          "base_uri": "https://localhost:8080/"
        },
        "id": "Piiee_21sman",
        "outputId": "00fc2b6a-46ee-42a9-d392-85123bf30bdb"
      },
      "source": [
        "df_tensor"
      ],
      "execution_count": 60,
      "outputs": [
        {
          "output_type": "execute_result",
          "data": {
            "text/plain": [
              "tensor([[5.3636e+05, 1.7850e+04, 2.5500e+00, 6.0000e+00],\n",
              "        [5.3636e+05, 1.7850e+04, 3.3900e+00, 6.0000e+00],\n",
              "        [5.3636e+05, 1.7850e+04, 2.7500e+00, 8.0000e+00],\n",
              "        ...,\n",
              "        [5.8159e+05, 1.2680e+04, 4.1500e+00, 4.0000e+00],\n",
              "        [5.8159e+05, 1.2680e+04, 4.1500e+00, 4.0000e+00],\n",
              "        [5.8159e+05, 1.2680e+04, 4.9500e+00, 3.0000e+00]], device='cuda:0',\n",
              "       dtype=torch.float64)"
            ]
          },
          "metadata": {
            "tags": []
          },
          "execution_count": 60
        }
      ]
    },
    {
      "cell_type": "code",
      "metadata": {
        "colab": {
          "base_uri": "https://localhost:8080/"
        },
        "id": "9a3R_0ezsm0G",
        "outputId": "63612a20-29a8-41d3-864d-10c536bd3b56"
      },
      "source": [
        "df_tensor.dtype"
      ],
      "execution_count": 61,
      "outputs": [
        {
          "output_type": "execute_result",
          "data": {
            "text/plain": [
              "torch.float64"
            ]
          },
          "metadata": {
            "tags": []
          },
          "execution_count": 61
        }
      ]
    },
    {
      "cell_type": "code",
      "metadata": {
        "colab": {
          "base_uri": "https://localhost:8080/"
        },
        "id": "I73cdlbFZLsc",
        "outputId": "78e12496-dd1d-4456-8d4c-a92d86b243a0"
      },
      "source": [
        "sale_dict = {}\r\n",
        "\r\n",
        "start = time.time()\r\n",
        "\r\n",
        "for i in tqdm(df_tensor[:, 1][~torch.isnan(df_tensor[:, 1])].unique()):\r\n",
        "    for j in df_tensor[df_tensor[:, 1]==i][:, 0].unique():\r\n",
        "        sale_dict[f\"{i}_{j}_sale\"] = df_tensor[(df_tensor[:, 1]==i) & (df_tensor[:, 0]==j)][:, 3] * df_tensor[(df_tensor[:, 1]==i) & (df_tensor[:, 0]==j)][:, 2]\r\n",
        "\r\n",
        "elapsed_time = time.time() - start\r\n",
        "print (f\"elapsed_time:{elapsed_time}[sec]\")"
      ],
      "execution_count": 62,
      "outputs": [
        {
          "output_type": "stream",
          "text": [
            "100%|██████████| 4372/4372 [00:13<00:00, 329.63it/s]"
          ],
          "name": "stderr"
        },
        {
          "output_type": "stream",
          "text": [
            "elapsed_time:13.271113634109497[sec]\n"
          ],
          "name": "stdout"
        },
        {
          "output_type": "stream",
          "text": [
            "\n"
          ],
          "name": "stderr"
        }
      ]
    },
    {
      "cell_type": "code",
      "metadata": {
        "id": "cOUh35hXy8ln"
      },
      "source": [
        ""
      ],
      "execution_count": null,
      "outputs": []
    },
    {
      "cell_type": "code",
      "metadata": {
        "colab": {
          "base_uri": "https://localhost:8080/",
          "height": 406
        },
        "id": "fk2z9xl9y8oB",
        "outputId": "461b5d72-6b4c-4d4d-d212-2a521bc53c32"
      },
      "source": [
        "df"
      ],
      "execution_count": 64,
      "outputs": [
        {
          "output_type": "execute_result",
          "data": {
            "text/html": [
              "<div>\n",
              "<style scoped>\n",
              "    .dataframe tbody tr th:only-of-type {\n",
              "        vertical-align: middle;\n",
              "    }\n",
              "\n",
              "    .dataframe tbody tr th {\n",
              "        vertical-align: top;\n",
              "    }\n",
              "\n",
              "    .dataframe thead th {\n",
              "        text-align: right;\n",
              "    }\n",
              "</style>\n",
              "<table border=\"1\" class=\"dataframe\">\n",
              "  <thead>\n",
              "    <tr style=\"text-align: right;\">\n",
              "      <th></th>\n",
              "      <th>InvoiceNo</th>\n",
              "      <th>CustomerID</th>\n",
              "      <th>UnitPrice</th>\n",
              "      <th>Quantity</th>\n",
              "    </tr>\n",
              "  </thead>\n",
              "  <tbody>\n",
              "    <tr>\n",
              "      <th>0</th>\n",
              "      <td>536365.0</td>\n",
              "      <td>17850.0</td>\n",
              "      <td>2.55</td>\n",
              "      <td>6.0</td>\n",
              "    </tr>\n",
              "    <tr>\n",
              "      <th>1</th>\n",
              "      <td>536365.0</td>\n",
              "      <td>17850.0</td>\n",
              "      <td>3.39</td>\n",
              "      <td>6.0</td>\n",
              "    </tr>\n",
              "    <tr>\n",
              "      <th>2</th>\n",
              "      <td>536365.0</td>\n",
              "      <td>17850.0</td>\n",
              "      <td>2.75</td>\n",
              "      <td>8.0</td>\n",
              "    </tr>\n",
              "    <tr>\n",
              "      <th>3</th>\n",
              "      <td>536365.0</td>\n",
              "      <td>17850.0</td>\n",
              "      <td>3.39</td>\n",
              "      <td>6.0</td>\n",
              "    </tr>\n",
              "    <tr>\n",
              "      <th>4</th>\n",
              "      <td>536365.0</td>\n",
              "      <td>17850.0</td>\n",
              "      <td>3.39</td>\n",
              "      <td>6.0</td>\n",
              "    </tr>\n",
              "    <tr>\n",
              "      <th>...</th>\n",
              "      <td>...</td>\n",
              "      <td>...</td>\n",
              "      <td>...</td>\n",
              "      <td>...</td>\n",
              "    </tr>\n",
              "    <tr>\n",
              "      <th>541904</th>\n",
              "      <td>581587.0</td>\n",
              "      <td>12680.0</td>\n",
              "      <td>0.85</td>\n",
              "      <td>12.0</td>\n",
              "    </tr>\n",
              "    <tr>\n",
              "      <th>541905</th>\n",
              "      <td>581587.0</td>\n",
              "      <td>12680.0</td>\n",
              "      <td>2.10</td>\n",
              "      <td>6.0</td>\n",
              "    </tr>\n",
              "    <tr>\n",
              "      <th>541906</th>\n",
              "      <td>581587.0</td>\n",
              "      <td>12680.0</td>\n",
              "      <td>4.15</td>\n",
              "      <td>4.0</td>\n",
              "    </tr>\n",
              "    <tr>\n",
              "      <th>541907</th>\n",
              "      <td>581587.0</td>\n",
              "      <td>12680.0</td>\n",
              "      <td>4.15</td>\n",
              "      <td>4.0</td>\n",
              "    </tr>\n",
              "    <tr>\n",
              "      <th>541908</th>\n",
              "      <td>581587.0</td>\n",
              "      <td>12680.0</td>\n",
              "      <td>4.95</td>\n",
              "      <td>3.0</td>\n",
              "    </tr>\n",
              "  </tbody>\n",
              "</table>\n",
              "<p>541909 rows × 4 columns</p>\n",
              "</div>"
            ],
            "text/plain": [
              "        InvoiceNo  CustomerID  UnitPrice  Quantity\n",
              "0        536365.0     17850.0       2.55       6.0\n",
              "1        536365.0     17850.0       3.39       6.0\n",
              "2        536365.0     17850.0       2.75       8.0\n",
              "3        536365.0     17850.0       3.39       6.0\n",
              "4        536365.0     17850.0       3.39       6.0\n",
              "...           ...         ...        ...       ...\n",
              "541904   581587.0     12680.0       0.85      12.0\n",
              "541905   581587.0     12680.0       2.10       6.0\n",
              "541906   581587.0     12680.0       4.15       4.0\n",
              "541907   581587.0     12680.0       4.15       4.0\n",
              "541908   581587.0     12680.0       4.95       3.0\n",
              "\n",
              "[541909 rows x 4 columns]"
            ]
          },
          "metadata": {
            "tags": []
          },
          "execution_count": 64
        }
      ]
    },
    {
      "cell_type": "code",
      "metadata": {
        "colab": {
          "base_uri": "https://localhost:8080/"
        },
        "id": "vx4jTSSvy8ql",
        "outputId": "c55094d0-7151-4ebc-b455-0a7b59840247"
      },
      "source": [
        "df_np"
      ],
      "execution_count": 65,
      "outputs": [
        {
          "output_type": "execute_result",
          "data": {
            "text/plain": [
              "array([[5.36365e+05, 1.78500e+04, 2.55000e+00, 6.00000e+00],\n",
              "       [5.36365e+05, 1.78500e+04, 3.39000e+00, 6.00000e+00],\n",
              "       [5.36365e+05, 1.78500e+04, 2.75000e+00, 8.00000e+00],\n",
              "       ...,\n",
              "       [5.81587e+05, 1.26800e+04, 4.15000e+00, 4.00000e+00],\n",
              "       [5.81587e+05, 1.26800e+04, 4.15000e+00, 4.00000e+00],\n",
              "       [5.81587e+05, 1.26800e+04, 4.95000e+00, 3.00000e+00]])"
            ]
          },
          "metadata": {
            "tags": []
          },
          "execution_count": 65
        }
      ]
    },
    {
      "cell_type": "code",
      "metadata": {
        "colab": {
          "base_uri": "https://localhost:8080/"
        },
        "id": "Li8xTX2Ry8tC",
        "outputId": "2b4acca1-cac8-48f1-e422-0c4b1485fb13"
      },
      "source": [
        "df_tensor"
      ],
      "execution_count": 66,
      "outputs": [
        {
          "output_type": "execute_result",
          "data": {
            "text/plain": [
              "tensor([[5.3636e+05, 1.7850e+04, 2.5500e+00, 6.0000e+00],\n",
              "        [5.3636e+05, 1.7850e+04, 3.3900e+00, 6.0000e+00],\n",
              "        [5.3636e+05, 1.7850e+04, 2.7500e+00, 8.0000e+00],\n",
              "        ...,\n",
              "        [5.8159e+05, 1.2680e+04, 4.1500e+00, 4.0000e+00],\n",
              "        [5.8159e+05, 1.2680e+04, 4.1500e+00, 4.0000e+00],\n",
              "        [5.8159e+05, 1.2680e+04, 4.9500e+00, 3.0000e+00]], device='cuda:0',\n",
              "       dtype=torch.float64)"
            ]
          },
          "metadata": {
            "tags": []
          },
          "execution_count": 66
        }
      ]
    },
    {
      "cell_type": "code",
      "metadata": {
        "colab": {
          "base_uri": "https://localhost:8080/"
        },
        "id": "_MR3y_4rzBfy",
        "outputId": "8c31e832-043b-4157-965c-5001bbafeda9"
      },
      "source": [
        "df[\"InvoiceNo\"].isin([536365.0, 581587.0])"
      ],
      "execution_count": 68,
      "outputs": [
        {
          "output_type": "execute_result",
          "data": {
            "text/plain": [
              "0         True\n",
              "1         True\n",
              "2         True\n",
              "3         True\n",
              "4         True\n",
              "          ... \n",
              "541904    True\n",
              "541905    True\n",
              "541906    True\n",
              "541907    True\n",
              "541908    True\n",
              "Name: InvoiceNo, Length: 541909, dtype: bool"
            ]
          },
          "metadata": {
            "tags": []
          },
          "execution_count": 68
        }
      ]
    },
    {
      "cell_type": "code",
      "metadata": {
        "colab": {
          "base_uri": "https://localhost:8080/"
        },
        "id": "T6TV8AtkzLsb",
        "outputId": "2f64f8cc-9021-400b-9547-6663e9e70a02"
      },
      "source": [
        "np.isin(df_np[:, 0], [536365.0, 581587.0])"
      ],
      "execution_count": 70,
      "outputs": [
        {
          "output_type": "execute_result",
          "data": {
            "text/plain": [
              "array([ True,  True,  True, ...,  True,  True,  True])"
            ]
          },
          "metadata": {
            "tags": []
          },
          "execution_count": 70
        }
      ]
    },
    {
      "cell_type": "code",
      "metadata": {
        "colab": {
          "base_uri": "https://localhost:8080/"
        },
        "id": "pd6ciM_KzVw6",
        "outputId": "2f4fd154-de42-46d7-fa87-78d7c0e41624"
      },
      "source": [
        "(df_tensor[:, 0, None] == torch.tensor([536365.0, 581587.0])).any(-1)"
      ],
      "execution_count": 97,
      "outputs": [
        {
          "output_type": "execute_result",
          "data": {
            "text/plain": [
              "tensor([True, True, True,  ..., True, True, True])"
            ]
          },
          "metadata": {
            "tags": []
          },
          "execution_count": 97
        }
      ]
    },
    {
      "cell_type": "code",
      "metadata": {
        "colab": {
          "base_uri": "https://localhost:8080/"
        },
        "id": "FqlT9ywE1odX",
        "outputId": "7e48e58f-730d-430f-908d-35949af6bbab"
      },
      "source": [
        "df_tensor"
      ],
      "execution_count": 91,
      "outputs": [
        {
          "output_type": "execute_result",
          "data": {
            "text/plain": [
              "tensor([[5.3636e+05, 1.7850e+04, 2.5500e+00, 6.0000e+00],\n",
              "        [5.3636e+05, 1.7850e+04, 3.3900e+00, 6.0000e+00],\n",
              "        [5.3636e+05, 1.7850e+04, 2.7500e+00, 8.0000e+00],\n",
              "        ...,\n",
              "        [5.8159e+05, 1.2680e+04, 4.1500e+00, 4.0000e+00],\n",
              "        [5.8159e+05, 1.2680e+04, 4.1500e+00, 4.0000e+00],\n",
              "        [5.8159e+05, 1.2680e+04, 4.9500e+00, 3.0000e+00]], device='cuda:0',\n",
              "       dtype=torch.float64)"
            ]
          },
          "metadata": {
            "tags": []
          },
          "execution_count": 91
        }
      ]
    },
    {
      "cell_type": "code",
      "metadata": {
        "colab": {
          "base_uri": "https://localhost:8080/"
        },
        "id": "sqwGJrPE0GMA",
        "outputId": "f20b7118-72d5-4624-fcb8-aad9563931a1"
      },
      "source": [
        "df_tensor[:, 0, None]==torch.tensor(536365.)"
      ],
      "execution_count": 93,
      "outputs": [
        {
          "output_type": "execute_result",
          "data": {
            "text/plain": [
              "tensor([[ True],\n",
              "        [ True],\n",
              "        [ True],\n",
              "        ...,\n",
              "        [False],\n",
              "        [False],\n",
              "        [False]], device='cuda:0')"
            ]
          },
          "metadata": {
            "tags": []
          },
          "execution_count": 93
        }
      ]
    },
    {
      "cell_type": "code",
      "metadata": {
        "colab": {
          "base_uri": "https://localhost:8080/"
        },
        "id": "glm8ezPq0cOx",
        "outputId": "2ea666fd-98b3-4f87-eb8a-e07aa7ee5820"
      },
      "source": [
        "df_tensor[:, 0, None] "
      ],
      "execution_count": 86,
      "outputs": [
        {
          "output_type": "execute_result",
          "data": {
            "text/plain": [
              "tensor([[536365.],\n",
              "        [536365.],\n",
              "        [536365.],\n",
              "        ...,\n",
              "        [581587.],\n",
              "        [581587.],\n",
              "        [581587.]], device='cuda:0', dtype=torch.float64)"
            ]
          },
          "metadata": {
            "tags": []
          },
          "execution_count": 86
        }
      ]
    },
    {
      "cell_type": "code",
      "metadata": {
        "id": "FAoeJJKV1cJx"
      },
      "source": [
        ""
      ],
      "execution_count": null,
      "outputs": []
    }
  ]
}